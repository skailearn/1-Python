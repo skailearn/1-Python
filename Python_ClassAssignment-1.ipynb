{
 "cells": [
  {
   "cell_type": "code",
   "execution_count": 17,
   "id": "4f085cca-5b05-4fb9-bb31-70247f160fa5",
   "metadata": {},
   "outputs": [],
   "source": [
    "# Class Assignment - 1"
   ]
  },
  {
   "cell_type": "code",
   "execution_count": 13,
   "id": "8ab45bd5-90b1-42dd-85ff-76efca202b42",
   "metadata": {},
   "outputs": [],
   "source": [
    "class SubfieldsInAI:\n",
    "    def Subfields():\n",
    "        ai_fields_list = ['Machine Learning','Neural Networks','Vision','Robotics','Speech Processing','Natural Language Processing']\n",
    "        print(\"Sub-fields in AI are :\")\n",
    "        for term in ai_fields_list:\n",
    "            print(term)\n"
   ]
  },
  {
   "cell_type": "code",
   "execution_count": 15,
   "id": "38317c18-7a3d-4b53-8d30-8708ce82e163",
   "metadata": {},
   "outputs": [
    {
     "name": "stdout",
     "output_type": "stream",
     "text": [
      "Sub-fields in AI are :\n",
      "Machine Learning\n",
      "Neural Networks\n",
      "Vision\n",
      "Robotics\n",
      "Speech Processing\n",
      "Natural Language Processing\n"
     ]
    }
   ],
   "source": [
    "# Exercise 1:\n",
    "SubfieldsInAI.Subfields()"
   ]
  },
  {
   "cell_type": "code",
   "execution_count": 23,
   "id": "5109d1ce-daf2-43b1-bacb-acf18265a4fb",
   "metadata": {},
   "outputs": [],
   "source": [
    "class OddEven:\n",
    "    def OddEven():\n",
    "        num = int(input(\"Enter a number : \"))\n",
    "        if num % 2 == 0:\n",
    "            print(num, \" is Even number\")\n",
    "        else:\n",
    "            print(num, \" is Odd number\")                 \n",
    "        "
   ]
  },
  {
   "cell_type": "code",
   "execution_count": 25,
   "id": "0f0c9df6-076c-492d-9fbd-01703096b25e",
   "metadata": {},
   "outputs": [
    {
     "name": "stdin",
     "output_type": "stream",
     "text": [
      "Enter a number :  52452\n"
     ]
    },
    {
     "name": "stdout",
     "output_type": "stream",
     "text": [
      "52452  is Even number\n"
     ]
    }
   ],
   "source": [
    "# Exercise 2:\n",
    "OddEven.OddEven()"
   ]
  },
  {
   "cell_type": "code",
   "execution_count": 29,
   "id": "ce92c8fc-3e89-4b58-97a9-b56b6e1dbafb",
   "metadata": {},
   "outputs": [],
   "source": [
    "class ElegiblityForMarriage:\n",
    "    def Elegible():\n",
    "        gender = input(\"Your Gender :\")\n",
    "        age = int(input(\"Your Age :\"))\n",
    "        if gender == \"Male\":\n",
    "            if age >=21:\n",
    "                print(\" ELIGIBLE\")\n",
    "            else:\n",
    "                print(\"NOT ELIGIBLE\")\n",
    "        elif gender == \"Female\":\n",
    "            if age >=18:\n",
    "                print(\" ELIGIBLE\")\n",
    "            else:\n",
    "                print(\"NOT ELIGIBLE\")"
   ]
  },
  {
   "cell_type": "code",
   "execution_count": 33,
   "id": "0fc25257-fc4f-4d91-a2c2-f599c8a2609d",
   "metadata": {},
   "outputs": [
    {
     "name": "stdin",
     "output_type": "stream",
     "text": [
      "Your Gender : Male\n",
      "Your Age : 20\n"
     ]
    },
    {
     "name": "stdout",
     "output_type": "stream",
     "text": [
      "NOT ELIGIBLE\n"
     ]
    }
   ],
   "source": [
    "#Exercise 3:\n",
    "ElegiblityForMarriage.Elegible()"
   ]
  },
  {
   "cell_type": "code",
   "execution_count": 41,
   "id": "622a3d5c-7be8-4396-a088-5a2e1bb8f579",
   "metadata": {},
   "outputs": [],
   "source": [
    "class FindPercent:\n",
    "    def percentage():\n",
    "        print(\"Subject1 = 98\")\n",
    "        print(\"Subject2 = 87\")\n",
    "        print(\"Subject3 = 95\")\n",
    "        print(\"Subject4 = 95\")\n",
    "        print(\"Subject5 = 93\")\n",
    "        print(\"Total :\", 98+87+95+95+93)\n",
    "        print(\"Percentage :\", (98+87+95+95+93)/5)"
   ]
  },
  {
   "cell_type": "code",
   "execution_count": 43,
   "id": "1d76f72e-111a-4e43-b860-7867913c4e12",
   "metadata": {},
   "outputs": [
    {
     "name": "stdout",
     "output_type": "stream",
     "text": [
      "Subject1 = 98\n",
      "Subject2 = 87\n",
      "Subject3 = 95\n",
      "Subject4 = 95\n",
      "Subject5 = 93\n",
      "Total : 468\n",
      "Percentage : 93.6\n"
     ]
    }
   ],
   "source": [
    "#Exercise 4:\n",
    "FindPercent.percentage()"
   ]
  },
  {
   "cell_type": "code",
   "execution_count": 65,
   "id": "a630f719-3da1-4d25-b138-0ee9e8d85a93",
   "metadata": {},
   "outputs": [],
   "source": [
    "class Triangle:\n",
    "    def triangle():\n",
    "        height = 32\n",
    "        breadth = 34\n",
    "        Area = (height * breadth)/2\n",
    "        h1=2\n",
    "        h2=4\n",
    "        b1=4\n",
    "        perimeter = h1+h2+b1\n",
    "        print(\"Height  : \", height)\n",
    "        print(\"Breadth : \",breadth)\n",
    "        print(\"Area formula : (Height*Breadth)/2\")\n",
    "        print(\"Area of Traiangle : \", Area)\n",
    "        print(\"Height1 : \",h1)\n",
    "        print(\"height2 : \",h2)\n",
    "        print(\"breadth : \",b1)\n",
    "        print(\"Perimeter of Traingle : \", perimeter)             \n",
    "    "
   ]
  },
  {
   "cell_type": "code",
   "execution_count": 67,
   "id": "bddf1d1b-60e4-485f-a31f-12c3de755712",
   "metadata": {},
   "outputs": [
    {
     "name": "stdout",
     "output_type": "stream",
     "text": [
      "Height  :  32\n",
      "Breadth :  34\n",
      "Area formula : (Height*Breadth)/2\n",
      "Area of Traiangle :  544.0\n",
      "Height1 :  2\n",
      "height2 :  4\n",
      "breadth :  4\n",
      "Perimeter of Traingle :  10\n"
     ]
    }
   ],
   "source": [
    "Triangle.triangle()"
   ]
  }
 ],
 "metadata": {
  "kernelspec": {
   "display_name": "Python 3 (ipykernel)",
   "language": "python",
   "name": "python3"
  },
  "language_info": {
   "codemirror_mode": {
    "name": "ipython",
    "version": 3
   },
   "file_extension": ".py",
   "mimetype": "text/x-python",
   "name": "python",
   "nbconvert_exporter": "python",
   "pygments_lexer": "ipython3",
   "version": "3.12.4"
  }
 },
 "nbformat": 4,
 "nbformat_minor": 5
}
